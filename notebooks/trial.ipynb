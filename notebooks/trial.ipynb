{
 "cells": [
  {
   "cell_type": "code",
   "execution_count": 2,
   "metadata": {},
   "outputs": [
    {
     "data": {
      "text/plain": [
       "True"
      ]
     },
     "execution_count": 2,
     "metadata": {},
     "output_type": "execute_result"
    }
   ],
   "source": [
    "from openai import OpenAI\n",
    "import json\n",
    "import os\n",
    "from dotenv import load_dotenv\n",
    "\n",
    "load_dotenv()"
   ]
  },
  {
   "cell_type": "code",
   "execution_count": 7,
   "metadata": {},
   "outputs": [],
   "source": [
    "systm_msg = \"\"\"Your role is to write cover letters for job applications. It is important that you keep the body of the cover letter to a maximum of 3 paragraphs and use a structure and writing style to maximise application success. The user will provide you with some important information that you must use when writing the message.\"\"\""
   ]
  },
  {
   "cell_type": "code",
   "execution_count": 8,
   "metadata": {},
   "outputs": [],
   "source": [
    "\n",
    "# Define the job description\n",
    "user_msg = \"\"\"The Hibiscus Tavern/ Dolly's Bar and Restaurant are currently seeking experienced and energetic people who have a passion for hospitality to join our team for an immediate start.\n",
    "\n",
    "We have casual positions in our Sports Bar and Restaurant available with a competitive hourly rate.\n",
    "\n",
    "The candidate must be presentable and have a high level of customer service.\n",
    "\n",
    "The position involves but is not limited to:\n",
    "\n",
    "Cash handling\n",
    "Use of a POS System\n",
    "Great customer service/interaction skills\n",
    "Service of food and beverage\n",
    "General product knowledge\n",
    "Keno and Gaming experience\n",
    "Ability to stand for lengthy periods of time\n",
    "Some repetitive lifting\n",
    "The Candidate must have a current RSA and RSG (RCG)\n",
    "\n",
    "Must have working rights in Australia.  \"\"\"\n"
   ]
  },
  {
   "cell_type": "code",
   "execution_count": 9,
   "metadata": {},
   "outputs": [],
   "source": [
    "client = OpenAI(api_key=os.getenv(\"OPENAI_API_KEY\"))\n",
    "# Create a dataset using GPT\n",
    "response = client.chat.completions.create(model=\"gpt-3.5-turbo\",\n",
    "                                        messages=[\n",
    "                                        {\"role\": \"system\", \"content\": systm_msg},\n",
    "                                        {\"role\": \"user\", \"content\": user_msg}\n",
    "                                         ])"
   ]
  },
  {
   "cell_type": "code",
   "execution_count": 10,
   "metadata": {},
   "outputs": [
    {
     "name": "stdout",
     "output_type": "stream",
     "text": [
      "Dear Hiring Manager,\n",
      "\n",
      "I am writing to express my interest in the casual positions available at The Hibiscus Tavern and Dolly's Bar and Restaurant. With a passion for hospitality and proven experience in the industry, I am excited about the opportunity to join your team. I am confident that my friendly and approachable nature, combined with my exceptional customer service skills, make me a great fit for this role.\n",
      "\n",
      "I have experience in cash handling, utilizing POS systems, and providing excellent customer service in fast-paced environments. Additionally, my knowledge of food and beverages, coupled with my previous experience in Keno and Gaming, equip me with the skills necessary to excel in this position. I hold a current RSA and RSG, ensuring that I am compliant with all legal requirements. Furthermore, my ability to adapt quickly, stand for long periods, and undertake repetitive lifting tasks will enable me to perform effectively in this role.\n",
      "\n",
      "I am enthusiastic about the opportunity to contribute to The Hibiscus Tavern and Dolly's Bar and Restaurant and am eager to bring my positive attitude and strong work ethic to your team. Thank you for considering my application. I am looking forward to the possibility of discussing how my skills and experiences align with the needs of your establishment.\n",
      "\n",
      "Warm regards,\n",
      "\n",
      "[Your Name]\n"
     ]
    }
   ],
   "source": [
    "rsp = response.choices[0].message.content\n",
    "print(rsp)"
   ]
  },
  {
   "cell_type": "code",
   "execution_count": 11,
   "metadata": {},
   "outputs": [
    {
     "data": {
      "text/plain": [
       "ChatCompletion(id='chatcmpl-9Fl9WyZwUdgwAnNAOzmYLXaKJGmup', choices=[Choice(finish_reason='stop', index=0, logprobs=None, message=ChatCompletionMessage(content=\"Dear Hiring Manager,\\n\\nI am writing to express my interest in the casual positions available at The Hibiscus Tavern and Dolly's Bar and Restaurant. With a passion for hospitality and proven experience in the industry, I am excited about the opportunity to join your team. I am confident that my friendly and approachable nature, combined with my exceptional customer service skills, make me a great fit for this role.\\n\\nI have experience in cash handling, utilizing POS systems, and providing excellent customer service in fast-paced environments. Additionally, my knowledge of food and beverages, coupled with my previous experience in Keno and Gaming, equip me with the skills necessary to excel in this position. I hold a current RSA and RSG, ensuring that I am compliant with all legal requirements. Furthermore, my ability to adapt quickly, stand for long periods, and undertake repetitive lifting tasks will enable me to perform effectively in this role.\\n\\nI am enthusiastic about the opportunity to contribute to The Hibiscus Tavern and Dolly's Bar and Restaurant and am eager to bring my positive attitude and strong work ethic to your team. Thank you for considering my application. I am looking forward to the possibility of discussing how my skills and experiences align with the needs of your establishment.\\n\\nWarm regards,\\n\\n[Your Name]\", role='assistant', function_call=None, tool_calls=None))], created=1713543202, model='gpt-3.5-turbo-0125', object='chat.completion', system_fingerprint='fp_d9767fc5b9', usage=CompletionUsage(completion_tokens=254, prompt_tokens=214, total_tokens=468))"
      ]
     },
     "execution_count": 11,
     "metadata": {},
     "output_type": "execute_result"
    }
   ],
   "source": [
    "response"
   ]
  },
  {
   "cell_type": "code",
   "execution_count": null,
   "metadata": {},
   "outputs": [],
   "source": []
  }
 ],
 "metadata": {
  "kernelspec": {
   "display_name": "cover_letter",
   "language": "python",
   "name": "python3"
  },
  "language_info": {
   "codemirror_mode": {
    "name": "ipython",
    "version": 3
   },
   "file_extension": ".py",
   "mimetype": "text/x-python",
   "name": "python",
   "nbconvert_exporter": "python",
   "pygments_lexer": "ipython3",
   "version": "3.10.9"
  },
  "orig_nbformat": 4
 },
 "nbformat": 4,
 "nbformat_minor": 2
}
