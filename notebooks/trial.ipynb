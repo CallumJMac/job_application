{
 "cells": [
  {
   "cell_type": "code",
   "execution_count": 7,
   "metadata": {},
   "outputs": [],
   "source": [
    "import openai\n",
    "import json\n",
    "import os\n",
    "from dotenv import load_dotenv\n",
    "\n",
    "load_dotenv()\n",
    "\n",
    "openai.api_key  = os.getenv(\"OPENAI_API_KEY\")"
   ]
  },
  {
   "cell_type": "code",
   "execution_count": 8,
   "metadata": {},
   "outputs": [],
   "source": [
    "# Define the system message\n",
    "system_msg = \"\"\"Your role is to write cover letters for job applications. \n",
    "\n",
    "You will be provided with a job description by the user. \n",
    "\n",
    "Here's a step-by-step guide on how to write and structure an effective cover letter:\n",
    "\n",
    "1. **Header**:\n",
    "   - Include your contact information at the top of the page. This should include your name, address, phone number, and email address.\n",
    "   - Include the date you are writing the cover letter, followed by the employer's contact information (if you have it) below your information.\n",
    "\n",
    "2. **Salutation**:\n",
    "   - Address the hiring manager or relevant person by their name. If you don't know their name, use a generic greeting like \"Dear Hiring Manager\" or \"To Whom It May Concern.\"\n",
    "\n",
    "3. **Opening Paragraph**:\n",
    "   - Begin with a strong opening sentence that expresses your interest in the specific position and company.\n",
    "   - Mention how you heard about the job or why you're interested in the company.\n",
    "   - Briefly introduce yourself and state your current role or status.\n",
    "\n",
    "4. **Body Paragraph**:\n",
    "   - This is where you'll make your case for why you're the ideal candidate.\n",
    "   - Highlight your relevant skills, experiences, and achievements that match the job requirements. Be specific and use quantifiable examples when possible.\n",
    "   - Show how your qualifications align with the company's values, mission, and needs. Research the company thoroughly to demonstrate your knowledge.\n",
    "   - Tailor each paragraph to address the key qualifications listed in the job description.\n",
    "   - Show enthusiasm and passion for the role and company.\n",
    "\n",
    "5. **Closing Paragraph**:\n",
    "   - Summarize your qualifications and express your strong interest in the position once again.\n",
    "   - Mention your eagerness to further discuss your qualifications in an interview.\n",
    "   - Thank the employer for considering your application.\n",
    "\n",
    "6. **Complimentary Close**:\n",
    "   - Use a polite and professional closing, such as \"Sincerely,\" \"Best regards,\" or \"Yours faithfully.\"\n",
    "\n",
    "7. **Signature**:\n",
    "   - Below your closing, leave space for your handwritten signature if you are submitting a physical copy. If submitting electronically, type your name.\n",
    "\n",
    "8. **Optional: Postscript (P.S.)**:\n",
    "   - Consider adding a postscript to reiterate a key point or express your enthusiasm once more. For example, you might say, \"P.S. I'm excited about the opportunity to contribute to [Company's] innovative projects.\"\n",
    "\n",
    "9. **Length and Format**:\n",
    "   - Keep your cover letter concise, typically one page in length.\n",
    "   - Use a clean, professional font and format. Ensure it's easy to read.\n",
    "\n",
    "10. **Proofread and Edit**:\n",
    "    - Carefully proofread your cover letter for grammar and spelling errors. You can also ask someone else to review it for you.\n",
    "    - Ensure the letter is tailored to the specific job and company.\n",
    "\n",
    "11. **Customization**:\n",
    "    - Customize each cover letter for the job you're applying to. Generic cover letters are less effective.\n",
    "\n",
    "12. **Follow-Up**:\n",
    "    - If possible, follow up with the employer after submitting your application to express your continued interest.\n",
    "\n",
    "Remember, a well-crafted cover letter can set you apart from other applicants and demonstrate your genuine interest in the position. It's your chance to make a strong first impression, so invest time and effort in creating a compelling document.\n",
    "\n",
    "If you need additional information from the user, please leave \"[blank]\" in the response.\n",
    "\"\"\"\n"
   ]
  },
  {
   "cell_type": "code",
   "execution_count": 9,
   "metadata": {},
   "outputs": [],
   "source": [
    "\n",
    "# Define the job description\n",
    "user_msg = \"\"\"The Hibiscus Tavern/ Dolly's Bar and Restaurant are currently seeking experienced and energetic people who have a passion for hospitality to join our team for an immediate start.\n",
    "\n",
    "We have casual positions in our Sports Bar and Restaurant available with a competitive hourly rate.\n",
    "\n",
    "The candidate must be presentable and have a high level of customer service.\n",
    "\n",
    "The position involves but is not limited to:\n",
    "\n",
    "Cash handling\n",
    "Use of a POS System\n",
    "Great customer service/interaction skills\n",
    "Service of food and beverage\n",
    "General product knowledge\n",
    "Keno and Gaming experience\n",
    "Ability to stand for lengthy periods of time\n",
    "Some repetitive lifting\n",
    "The Candidate must have a current RSA and RSG (RCG)\n",
    "\n",
    "Must have working rights in Australia.  \"\"\"\n"
   ]
  },
  {
   "cell_type": "code",
   "execution_count": 11,
   "metadata": {},
   "outputs": [],
   "source": [
    "\n",
    "# Create a dataset using GPT\n",
    "response = openai.ChatCompletion.create(model=\"gpt-3.5-turbo\",\n",
    "                                        messages=[{\"role\": \"system\", \"content\": system_msg},\n",
    "                                         {\"role\": \"user\", \"content\": user_msg}])"
   ]
  },
  {
   "cell_type": "code",
   "execution_count": 12,
   "metadata": {},
   "outputs": [
    {
     "name": "stdout",
     "output_type": "stream",
     "text": [
      "[Your Name]\n",
      "[Your Address]\n",
      "[City, State, ZIP Code]\n",
      "[Phone Number]\n",
      "[Email Address]\n",
      "\n",
      "[Date]\n",
      "\n",
      "[Employer's Name]\n",
      "[Employer's Position]\n",
      "[Company Name]\n",
      "[Company Address]\n",
      "[City, State, ZIP Code]\n",
      "\n",
      "Dear [Employer's Name],\n",
      "\n",
      "I am writing to express my strong interest in the casual positions available at The Hibiscus Tavern/ Dolly's Bar and Restaurant. As an experienced and energetic hospitality professional, I believe I would make a valuable addition to your team.\n",
      "\n",
      "I recently came across the job posting and was immediately drawn to the opportunity to join a renowned establishment like The Hibiscus Tavern/ Dolly's Bar and Restaurant. With its reputation for exceptional customer service and vibrant atmosphere, I am eager to contribute to the continued success of the establishment.\n",
      "\n",
      "Currently working as a bartender at a popular downtown restaurant, I have been exposed to a fast-paced environment and excellent customer service standards. I have honed my cash handling skills, use of POS systems, and ability to provide exceptional service while working under pressure. Moreover, my experience in the hospitality industry has equipped me with a strong knowledge of food and beverage service, as well as the ability to interact with customers in a friendly and professional manner.\n",
      "\n",
      "I am confident in my ability to excel in this role and meet the high standards set by The Hibiscus Tavern/ Dolly's Bar and Restaurant. I am particularly intrigued by the opportunity to enhance my skills in Keno and Gaming, as well as contribute to the overall success of the sports bar and restaurant. I have a valid RSA and RSG (RCG) certification, ensuring compliance with all legal and safety requirements.\n",
      "\n",
      "I am impressed by The Hibiscus Tavern/ Dolly's Bar and Restaurant's dedication to providing exceptional service and creating a welcoming environment. Furthermore, I appreciate the value placed on employee development and recognize the opportunity for growth and professional advancement within the organization.\n",
      "\n",
      "I am excited about the possibility of joining your team and contributing to the success of The Hibiscus Tavern/ Dolly's Bar and Restaurant. I would welcome the opportunity to discuss further how my skills and experience align with your requirements and to learn more about the position.\n",
      "\n",
      "Thank you for considering my application. I look forward to the possibility of an interview to discuss my qualifications in more detail.\n",
      "\n",
      "Sincerely,\n",
      "\n",
      "[Your Name]\n",
      "\n",
      "P.S. I am truly excited about the opportunity to contribute to The Hibiscus Tavern/ Dolly's Bar and Restaurant's innovative projects and commitment to exceptional customer service. I believe my passion for hospitality and dedication to exceeding customer expectations would make me a valuable asset to your team.\n"
     ]
    }
   ],
   "source": [
    "rsp = response['choices'][0]['message']['content']\n",
    "print(rsp)"
   ]
  },
  {
   "cell_type": "code",
   "execution_count": null,
   "metadata": {},
   "outputs": [
    {
     "data": {
      "text/plain": [
       "<OpenAIObject chat.completion id=chatcmpl-82pEeLTiI6ZevYpbIEGU0ekLvq0mQ at 0x2a7c8b23680> JSON: {\n",
       "  \"id\": \"chatcmpl-82pEeLTiI6ZevYpbIEGU0ekLvq0mQ\",\n",
       "  \"object\": \"chat.completion\",\n",
       "  \"created\": 1695684296,\n",
       "  \"model\": \"gpt-3.5-turbo-0613\",\n",
       "  \"choices\": [\n",
       "    {\n",
       "      \"index\": 0,\n",
       "      \"message\": {\n",
       "        \"role\": \"assistant\",\n",
       "        \"content\": \"[Your Name]\\n[Your Address]\\n[City, State, ZIP Code]\\n[Phone Number]\\n[Email Address]\\n\\n[Date]\\n\\n[Recruiter's Name]\\n[Company Name]\\n[Company Address]\\n[City, State, ZIP Code]\\n\\nDear [Recruiter's Name],\\n\\nI am writing to express my strong interest in the positions available at The Hibiscus Tavern/Dolly's Bar and Restaurant. With my experience in hospitality and my passion for providing excellent customer service, I believe I would be a valuable addition to your team.\\n\\nI learned about the job openings through [source], and I was immediately drawn to the opportunity to work at such a reputable establishment. The Hibiscus Tavern/Dolly's Bar and Restaurant has built a strong reputation for its high level of customer service and inviting atmosphere, which aligns perfectly with my own values and passion for hospitality.\\n\\nCurrently, I am working as a [your current role] at [current employer], where I have gained extensive experience in cash handling, using a POS system, and providing exceptional customer service. I am confident that my skills and knowledge in these areas would transfer well to the roles available at The Hibiscus Tavern/Dolly's Bar and Restaurant.\\n\\nIn addition to my experience in cash handling and using a POS system, I have a strong understanding of food and beverage service, along with a broad product knowledge. I have also previously worked with Keno and Gaming, giving me an advantage in meeting the requirements for the position.\\n\\nFurthermore, I possess excellent interpersonal skills and enjoy engaging with customers to ensure they have the best possible experience. I am able to maintain a professional demeanor, even during peak hours, and I thrive in fast-paced environments. My dedication to providing outstanding customer service and my ability to handle difficult situations with tact and problem-solving skills have consistently earned positive feedback from both customers and supervisors.\\n\\nI currently hold a current RSA and RSG (RCG) certification, demonstrating my commitment to maintaining a safe and responsible environment for both customers and staff.\\n\\nI am eager to further discuss my qualifications for the positions and how I can contribute to The Hibiscus Tavern/Dolly's Bar and Restaurant's exceptional service standards and customer satisfaction. I believe my skills, experience, and passion for hospitality make me an ideal candidate for these roles.\\n\\nThank you for considering my application. I would be grateful for the opportunity to interview with you and discuss how I can contribute to the success of The Hibiscus Tavern/Dolly's Bar and Restaurant. Please find attached my resume for your review.\\n\\nSincerely,\\n\\n[Your Name]\\n\\nP.S. I am genuinely excited about the opportunity to contribute to The Hibiscus Tavern/Dolly's Bar and Restaurant's innovative projects and consistently deliver exceptional service to your valued customers. I look forward to the chance to discuss this further in an interview.\"\n",
       "      },\n",
       "      \"finish_reason\": \"stop\"\n",
       "    }\n",
       "  ],\n",
       "  \"usage\": {\n",
       "    \"prompt_tokens\": 859,\n",
       "    \"completion_tokens\": 567,\n",
       "    \"total_tokens\": 1426\n",
       "  }\n",
       "}"
      ]
     },
     "execution_count": 6,
     "metadata": {},
     "output_type": "execute_result"
    }
   ],
   "source": [
    "response"
   ]
  },
  {
   "cell_type": "code",
   "execution_count": null,
   "metadata": {},
   "outputs": [],
   "source": []
  }
 ],
 "metadata": {
  "kernelspec": {
   "display_name": "cover_letter",
   "language": "python",
   "name": "python3"
  },
  "language_info": {
   "codemirror_mode": {
    "name": "ipython",
    "version": 3
   },
   "file_extension": ".py",
   "mimetype": "text/x-python",
   "name": "python",
   "nbconvert_exporter": "python",
   "pygments_lexer": "ipython3",
   "version": "3.9.18"
  },
  "orig_nbformat": 4
 },
 "nbformat": 4,
 "nbformat_minor": 2
}
